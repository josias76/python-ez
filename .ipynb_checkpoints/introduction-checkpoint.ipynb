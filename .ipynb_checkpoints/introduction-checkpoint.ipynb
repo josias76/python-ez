{
 "cells": [
  {
   "cell_type": "markdown",
   "id": "ec5e5cf4-22e6-46bc-83d5-50e6e3f8425a",
   "metadata": {},
   "source": [
    "**<h1 align=center><font color=black>📊MAITRISER LE LANGAGE PYTHON POUR LA SCIENCE DE DONNEES</h1>**"
   ]
  },
  {
   "cell_type": "markdown",
   "id": "e533fb46-78e6-406f-bd8e-451990282484",
   "metadata": {},
   "source": [
    " Par [Josias Nteme]"
   ]
  },
  {
   "cell_type": "markdown",
   "id": "fcbc73ed-3beb-4adf-8dbc-3d2799c8f33d",
   "metadata": {},
   "source": [
    "La maîtrise de 𝐏𝐲𝐭𝐡𝐨𝐧 est un passage incontournable pour exceller dans ces domaines. je vous propose une formation intensive pour vous initier aux fondamentaux du langage et à ses applications en 𝐃𝐚𝐭𝐚 𝐒𝐜𝐢𝐞𝐧𝐜𝐞."
   ]
  },
  {
   "cell_type": "markdown",
   "id": "219dfd3b-7285-473f-ab49-b96187a2431b",
   "metadata": {},
   "source": [
    "- ✅ Introduction à Python et installation de l’environnement\n",
    "- ✅ Variables, opérations et structures conditionnelles\n",
    "- ✅ Manipulation des structures de données (Listes, Dictionnaires, DataFrame)\n",
    "- ✅ Fonctions et modules en Python\n",
    "- ✅ Exploration des bibliothèques clés : Pandas, Numpy, Matplotlib, Seaborn"
   ]
  },
  {
   "cell_type": "code",
   "execution_count": 3,
   "id": "d88278eb-d936-4548-a1d6-4fdc0151e70e",
   "metadata": {},
   "outputs": [
    {
     "name": "stdout",
     "output_type": "stream",
     "text": [
      "josias\n"
     ]
    }
   ],
   "source": [
    "print(\"josias\")"
   ]
  },
  {
   "cell_type": "code",
   "execution_count": null,
   "id": "b7953dbf-6bff-4a8a-ba51-8abc30ef031e",
   "metadata": {},
   "outputs": [],
   "source": []
  }
 ],
 "metadata": {
  "kernelspec": {
   "display_name": "Python [conda env:base] *",
   "language": "python",
   "name": "conda-base-py"
  },
  "language_info": {
   "codemirror_mode": {
    "name": "ipython",
    "version": 3
   },
   "file_extension": ".py",
   "mimetype": "text/x-python",
   "name": "python",
   "nbconvert_exporter": "python",
   "pygments_lexer": "ipython3",
   "version": "3.11.7"
  }
 },
 "nbformat": 4,
 "nbformat_minor": 5
}
